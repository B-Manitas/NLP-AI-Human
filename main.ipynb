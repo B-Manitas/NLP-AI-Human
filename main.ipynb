{
 "cells": [
  {
   "cell_type": "markdown",
   "metadata": {},
   "source": [
    "# **Projet NLP: Classification IA and Human Texts**\n",
    "\n",
    "<ins>Group :</ins>\n",
    "- Thomas Sinapi\n",
    "- Pierre Derathe\n",
    "- Manitas Bahri"
   ]
  },
  {
   "cell_type": "code",
   "execution_count": 20,
   "metadata": {},
   "outputs": [],
   "source": [
    "import pandas as pd\n",
    "import numpy as np\n",
    "import matplotlib.pyplot as plt\n",
    "import re\n",
    "import nltk\n",
    "import gensim\n",
    "import textdistance\n",
    "\n",
    "from sklearn.feature_extraction.text import TfidfVectorizer\n",
    "from sklearn.preprocessing import MinMaxScaler\n",
    "from sklearn.naive_bayes import MultinomialNB\n",
    "from sklearn.ensemble import RandomForestClassifier\n",
    "from sklearn.pipeline import Pipeline\n",
    "from sklearn.model_selection import train_test_split, cross_val_predict, GridSearchCV\n",
    "from sklearn.metrics import ConfusionMatrixDisplay, accuracy_score, classification_report\n",
    "from pprint import pprint\n",
    "from nltk.tokenize import word_tokenize, RegexpTokenizer\n",
    "from nltk.corpus import stopwords\n",
    "from gensim.models import Word2Vec"
   ]
  },
  {
   "cell_type": "code",
   "execution_count": 3,
   "metadata": {},
   "outputs": [
    {
     "name": "stderr",
     "output_type": "stream",
     "text": [
      "[nltk_data] Downloading package stopwords to\n",
      "[nltk_data]     C:\\Users\\Kiba\\AppData\\Roaming\\nltk_data...\n",
      "[nltk_data]   Package stopwords is already up-to-date!\n"
     ]
    },
    {
     "data": {
      "text/plain": [
       "True"
      ]
     },
     "execution_count": 3,
     "metadata": {},
     "output_type": "execute_result"
    }
   ],
   "source": [
    "# nltk.download(\"stopwords\")"
   ]
  },
  {
   "cell_type": "code",
   "execution_count": 27,
   "metadata": {},
   "outputs": [
    {
     "data": {
      "text/plain": [
       "(4000, 2)"
      ]
     },
     "execution_count": 27,
     "metadata": {},
     "output_type": "execute_result"
    }
   ],
   "source": [
    "df = pd.read_csv(\"training.csv\")\n",
    "X, y = df[\"text\"], df[\"generated\"].astype(\"int\")\n",
    "df.shape"
   ]
  },
  {
   "cell_type": "markdown",
   "metadata": {},
   "source": [
    "## 2. **<ins>Preprocessing</ins>**"
   ]
  },
  {
   "cell_type": "code",
   "execution_count": 30,
   "metadata": {},
   "outputs": [
    {
     "name": "stdout",
     "output_type": "stream",
     "text": [
      "('Cars. Cars have been around since they became famous in the 1900s, when '\n",
      " 'Henry Ford created and built the first ModelT. Cars have played a major role '\n",
      " 'in our every day lives since then. But now, people are starting to question '\n",
      " 'if limiting car usage would be a good thing. To me, limiting the use of cars '\n",
      " 'might be a good thing to do.\\n'\n",
      " '\\n'\n",
      " 'In like matter of this, article, \"In German Suburb, Life Goes On Without '\n",
      " 'Cars,\" by Elizabeth Rosenthal states, how automobiles are the linchpin of '\n",
      " 'suburbs, where middle class families from either Shanghai or Chicago tend to '\n",
      " 'make their homes. Experts say how this is a huge impediment to current '\n",
      " 'efforts to reduce greenhouse gas emissions from tailpipe. Passenger cars are '\n",
      " 'responsible for 12 percent of greenhouse gas emissions in Europe...and up to '\n",
      " '50 percent in some carintensive areas in the United States. Cars are the '\n",
      " 'main reason for the greenhouse gas emissions because of a lot of people '\n",
      " 'driving them around all the time getting where they need to go. Article, '\n",
      " '\"Paris bans driving due to smog,\" by Robert Duffer says, how Paris, after '\n",
      " 'days of nearrecord pollution, enforced a partial driving ban to clear the '\n",
      " 'air of the global city. It also says, how on Monday, motorist with '\n",
      " 'evennumbered license plates were ordered to leave their cars at home or be '\n",
      " 'fined a 22euro fine 31. The same order would be applied to oddnumbered '\n",
      " 'plates the following day. Cars are the reason for polluting entire cities '\n",
      " 'like Paris. This shows how bad cars can be because, of all the pollution '\n",
      " 'that they can cause to an entire city.\\n'\n",
      " '\\n'\n",
      " 'Likewise, in the article, \"Carfree day is spinning into a big hit in '\n",
      " 'Bogota,\" by Andrew Selsky says, how programs that\\'s set to spread to other '\n",
      " 'countries, millions of Columbians hiked, biked, skated, or took the bus to '\n",
      " 'work during a carfree day, leaving streets of this capital city eerily '\n",
      " 'devoid of traffic jams. It was the third straight year cars have been banned '\n",
      " 'with only buses and taxis permitted for the Day Without Cars in the capital '\n",
      " 'city of 7 million. People like the idea of having carfree days because, it '\n",
      " 'allows them to lesson the pollution that cars put out of their exhaust from '\n",
      " 'people driving all the time. The article also tells how parks and sports '\n",
      " 'centers have bustled throughout the city uneven, pitted sidewalks have been '\n",
      " 'replaced by broad, smooth sidewalks rushhour restrictions have dramatically '\n",
      " 'cut traffic and new restaurants and upscale shopping districts have cropped '\n",
      " 'up. Having no cars has been good for the country of Columbia because, it has '\n",
      " 'aloud them to repair things that have needed repairs for a long time, '\n",
      " 'traffic jams have gone down, and restaurants and shopping districts have '\n",
      " 'popped up, all due to the fact of having less cars around.\\n'\n",
      " '\\n'\n",
      " 'In conclusion, the use of less cars and having carfree days, have had a big '\n",
      " 'impact on the environment of cities because, it is cutting down the air '\n",
      " 'pollution that the cars have majorly polluted, it has aloud countries like '\n",
      " 'Columbia to repair sidewalks, and cut down traffic jams. Limiting the use of '\n",
      " 'cars would be a good thing for America. So we should limit the use of cars '\n",
      " \"by maybe riding a bike, or maybe walking somewhere that isn't that far from \"\n",
      " \"you and doesn't need the use of a car to get you there. To me, limiting the \"\n",
      " 'use of cars might be a good thing to do.')\n"
     ]
    }
   ],
   "source": [
    "\n",
    "pprint(X[0])"
   ]
  },
  {
   "cell_type": "code",
   "execution_count": 31,
   "metadata": {},
   "outputs": [],
   "source": [
    "def remove_tags(text):\n",
    "    tags = ['\\n', '\\'']\n",
    "    for tag in tags:\n",
    "        text = text.replace(tag, '')\n",
    "    \n",
    "    return text\n",
    "\n",
    "\n",
    "X = X.apply(remove_tags)"
   ]
  },
  {
   "cell_type": "code",
   "execution_count": 32,
   "metadata": {},
   "outputs": [
    {
     "name": "stdout",
     "output_type": "stream",
     "text": [
      "('Cars. Cars have been around since they became famous in the 1900s, when '\n",
      " 'Henry Ford created and built the first ModelT. Cars have played a major role '\n",
      " 'in our every day lives since then. But now, people are starting to question '\n",
      " 'if limiting car usage would be a good thing. To me, limiting the use of cars '\n",
      " 'might be a good thing to do.In like matter of this, article, \"In German '\n",
      " 'Suburb, Life Goes On Without Cars,\" by Elizabeth Rosenthal states, how '\n",
      " 'automobiles are the linchpin of suburbs, where middle class families from '\n",
      " 'either Shanghai or Chicago tend to make their homes. Experts say how this is '\n",
      " 'a huge impediment to current efforts to reduce greenhouse gas emissions from '\n",
      " 'tailpipe. Passenger cars are responsible for 12 percent of greenhouse gas '\n",
      " 'emissions in Europe...and up to 50 percent in some carintensive areas in the '\n",
      " 'United States. Cars are the main reason for the greenhouse gas emissions '\n",
      " 'because of a lot of people driving them around all the time getting where '\n",
      " 'they need to go. Article, \"Paris bans driving due to smog,\" by Robert Duffer '\n",
      " 'says, how Paris, after days of nearrecord pollution, enforced a partial '\n",
      " 'driving ban to clear the air of the global city. It also says, how on '\n",
      " 'Monday, motorist with evennumbered license plates were ordered to leave '\n",
      " 'their cars at home or be fined a 22euro fine 31. The same order would be '\n",
      " 'applied to oddnumbered plates the following day. Cars are the reason for '\n",
      " 'polluting entire cities like Paris. This shows how bad cars can be because, '\n",
      " 'of all the pollution that they can cause to an entire city.Likewise, in the '\n",
      " 'article, \"Carfree day is spinning into a big hit in Bogota,\" by Andrew '\n",
      " 'Selsky says, how programs thats set to spread to other countries, millions '\n",
      " 'of Columbians hiked, biked, skated, or took the bus to work during a carfree '\n",
      " 'day, leaving streets of this capital city eerily devoid of traffic jams. It '\n",
      " 'was the third straight year cars have been banned with only buses and taxis '\n",
      " 'permitted for the Day Without Cars in the capital city of 7 million. People '\n",
      " 'like the idea of having carfree days because, it allows them to lesson the '\n",
      " 'pollution that cars put out of their exhaust from people driving all the '\n",
      " 'time. The article also tells how parks and sports centers have bustled '\n",
      " 'throughout the city uneven, pitted sidewalks have been replaced by broad, '\n",
      " 'smooth sidewalks rushhour restrictions have dramatically cut traffic and new '\n",
      " 'restaurants and upscale shopping districts have cropped up. Having no cars '\n",
      " 'has been good for the country of Columbia because, it has aloud them to '\n",
      " 'repair things that have needed repairs for a long time, traffic jams have '\n",
      " 'gone down, and restaurants and shopping districts have popped up, all due to '\n",
      " 'the fact of having less cars around.In conclusion, the use of less cars and '\n",
      " 'having carfree days, have had a big impact on the environment of cities '\n",
      " 'because, it is cutting down the air pollution that the cars have majorly '\n",
      " 'polluted, it has aloud countries like Columbia to repair sidewalks, and cut '\n",
      " 'down traffic jams. Limiting the use of cars would be a good thing for '\n",
      " 'America. So we should limit the use of cars by maybe riding a bike, or maybe '\n",
      " 'walking somewhere that isnt that far from you and doesnt need the use of a '\n",
      " 'car to get you there. To me, limiting the use of cars might be a good thing '\n",
      " 'to do.')\n"
     ]
    }
   ],
   "source": [
    "pprint(X[0])"
   ]
  },
  {
   "cell_type": "code",
   "execution_count": 4,
   "metadata": {},
   "outputs": [],
   "source": [
    "def remove_stopwords(tokens_list):\n",
    "    stop_words = set(stopwords.words('english'))\n",
    "    filtered_tokens = np.empty_like(tokens_list)\n",
    "    \n",
    "    for i, tokens in enumerate(tokens_list):\n",
    "        filtered_tokens[i] = [word for word in tokens if word.lower() not in stop_words]\n",
    "    \n",
    "    return pd.Series(filtered_tokens)"
   ]
  },
  {
   "cell_type": "code",
   "execution_count": 5,
   "metadata": {},
   "outputs": [],
   "source": [
    "tokenizer = RegexpTokenizer(r'\\w+')\n",
    "X = X.apply(lambda x: tokenizer.tokenize(x.lower()))"
   ]
  },
  {
   "cell_type": "code",
   "execution_count": 6,
   "metadata": {},
   "outputs": [],
   "source": [
    "X = remove_stopwords(X)"
   ]
  },
  {
   "cell_type": "code",
   "execution_count": null,
   "metadata": {},
   "outputs": [],
   "source": [
    "X_train, X_test, y_train, y_test = train_test_split(X, y, test_size=0.5, random_state=42)"
   ]
  },
  {
   "cell_type": "markdown",
   "metadata": {},
   "source": [
    "### 2.1. <ins>TF-IDF</ins>"
   ]
  },
  {
   "cell_type": "code",
   "execution_count": 7,
   "metadata": {},
   "outputs": [],
   "source": [
    "tfidf = TfidfVectorizer()\n",
    "X_train_tfidf = tfidf.fit_transform(X_train.apply(\" \".join))\n",
    "X_test_tfidf = tfidf.transform(X_test.apply(\" \".join))\n",
    "\n",
    "print(\"Number of words in vocabulary:\", X_train_tfidf.shape[1])"
   ]
  },
  {
   "cell_type": "code",
   "execution_count": 23,
   "metadata": {},
   "outputs": [
    {
     "data": {
      "text/plain": [
       "array(['00', '000', '001', ..., 'zoomed', 'zooming', 'zuckerburg'],\n",
       "      dtype=object)"
      ]
     },
     "execution_count": 23,
     "metadata": {},
     "output_type": "execute_result"
    }
   ],
   "source": [
    "tfidf.get_feature_names_out()"
   ]
  },
  {
   "cell_type": "markdown",
   "metadata": {},
   "source": [
    "### 2.1. <ins>Word2Vec</ins>"
   ]
  },
  {
   "cell_type": "code",
   "execution_count": 8,
   "metadata": {},
   "outputs": [],
   "source": [
    "word2vec = Word2Vec(X_train, window=5, min_count=10, workers=-1, vector_size=100)"
   ]
  },
  {
   "cell_type": "code",
   "execution_count": 9,
   "metadata": {},
   "outputs": [],
   "source": [
    "def get_vector(text, model):\n",
    "    vector = [0] * model.vector_size\n",
    "    count = 0\n",
    "    \n",
    "    for word in text:\n",
    "        if word in model.wv:\n",
    "            vector += model.wv[word]\n",
    "            count += 1\n",
    "    \n",
    "    if count != 0:\n",
    "        vector = [x / count for x in vector]\n",
    "    \n",
    "    return vector"
   ]
  },
  {
   "cell_type": "code",
   "execution_count": 10,
   "metadata": {},
   "outputs": [],
   "source": [
    "X_train_w2v = X_train.apply(lambda x: get_vector(x, word2vec)).values.tolist()\n",
    "X_test_w2v = X_test.apply(lambda x: get_vector(x, word2vec)).values.tolist()"
   ]
  },
  {
   "cell_type": "markdown",
   "metadata": {},
   "source": [
    "## 3. **<ins>Model Comparative *Multinomial NB* vs *Random Forest*<ins>**"
   ]
  },
  {
   "cell_type": "markdown",
   "metadata": {},
   "source": [
    "Etudes comparatives de modèles de classification de textes avec TF-IDF et Word2Vec."
   ]
  },
  {
   "cell_type": "markdown",
   "metadata": {},
   "source": [
    "### 3.1 <ins>Multinomial Naive Bayes (TF-IDF)<ins>"
   ]
  },
  {
   "cell_type": "code",
   "execution_count": 11,
   "metadata": {},
   "outputs": [
    {
     "name": "stdout",
     "output_type": "stream",
     "text": [
      "(TF-IDF) Cross Validation Accuracy: 0.954\n"
     ]
    }
   ],
   "source": [
    "mb = MultinomialNB()\n",
    "y_cv = cross_val_predict(mb, X_train_tfidf, y_train, cv=5)\n",
    "\n",
    "mb.fit(X_train_tfidf, y_train)\n",
    "y_pred = mb.predict(X_test_tfidf)\n",
    "\n",
    "print(f\"(TF-IDF) Cross Validation Accuracy: {accuracy_score(y_train, y_cv):.3f}\")"
   ]
  },
  {
   "cell_type": "code",
   "execution_count": 12,
   "metadata": {},
   "outputs": [
    {
     "data": {
      "image/png": "[encoded data removed]",
      "text/plain": [
       "<Figure size 640x480 with 2 Axes>"
      ]
     },
     "metadata": {},
     "output_type": "display_data"
    }
   ],
   "source": [
    "ConfusionMatrixDisplay.from_predictions(y_pred, y_test)\n",
    "plt.title(f\"(TF-IDF) Test Accuracy: {accuracy_score(y_test, y_pred)}\")\n",
    "plt.show()"
   ]
  },
  {
   "cell_type": "markdown",
   "metadata": {},
   "source": [
    "### 3.1.2 TF-IDF Hyper-parameter testing"
   ]
  },
  {
   "cell_type": "code",
   "execution_count": 22,
   "metadata": {},
   "outputs": [
    {
     "ename": "AttributeError",
     "evalue": "'list' object has no attribute 'lower'",
     "output_type": "error",
     "traceback": [
      "\u001b[1;31m---------------------------------------------------------------------------\u001b[0m",
      "\u001b[1;31mAttributeError\u001b[0m                            Traceback (most recent call last)",
      "Cell \u001b[1;32mIn[22], line 7\u001b[0m\n\u001b[0;32m      1\u001b[0m \u001b[38;5;66;03m# Create a pipeline with TF-IDF vectorizer and MultinomialNB classifier\u001b[39;00m\n\u001b[0;32m      2\u001b[0m pipeline \u001b[38;5;241m=\u001b[39m Pipeline([\n\u001b[0;32m      3\u001b[0m     (\u001b[38;5;124m'\u001b[39m\u001b[38;5;124mtfidf\u001b[39m\u001b[38;5;124m'\u001b[39m, TfidfVectorizer()),\n\u001b[0;32m      4\u001b[0m     (\u001b[38;5;124m'\u001b[39m\u001b[38;5;124mclf\u001b[39m\u001b[38;5;124m'\u001b[39m, MultinomialNB())\n\u001b[0;32m      5\u001b[0m ])\n\u001b[1;32m----> 7\u001b[0m \u001b[43mpipeline\u001b[49m\u001b[38;5;241;43m.\u001b[39;49m\u001b[43mfit\u001b[49m\u001b[43m(\u001b[49m\u001b[43mX_train\u001b[49m\u001b[43m,\u001b[49m\u001b[43m \u001b[49m\u001b[43my_train\u001b[49m\u001b[43m)\u001b[49m\n",
      "File \u001b[1;32mc:\\Users\\Kiba\\anaconda3\\envs\\nlp\\Lib\\site-packages\\sklearn\\base.py:1151\u001b[0m, in \u001b[0;36m_fit_context.<locals>.decorator.<locals>.wrapper\u001b[1;34m(estimator, *args, **kwargs)\u001b[0m\n\u001b[0;32m   1144\u001b[0m     estimator\u001b[38;5;241m.\u001b[39m_validate_params()\n\u001b[0;32m   1146\u001b[0m \u001b[38;5;28;01mwith\u001b[39;00m config_context(\n\u001b[0;32m   1147\u001b[0m     skip_parameter_validation\u001b[38;5;241m=\u001b[39m(\n\u001b[0;32m   1148\u001b[0m         prefer_skip_nested_validation \u001b[38;5;129;01mor\u001b[39;00m global_skip_validation\n\u001b[0;32m   1149\u001b[0m     )\n\u001b[0;32m   1150\u001b[0m ):\n\u001b[1;32m-> 1151\u001b[0m     \u001b[38;5;28;01mreturn\u001b[39;00m \u001b[43mfit_method\u001b[49m\u001b[43m(\u001b[49m\u001b[43mestimator\u001b[49m\u001b[43m,\u001b[49m\u001b[43m \u001b[49m\u001b[38;5;241;43m*\u001b[39;49m\u001b[43margs\u001b[49m\u001b[43m,\u001b[49m\u001b[43m \u001b[49m\u001b[38;5;241;43m*\u001b[39;49m\u001b[38;5;241;43m*\u001b[39;49m\u001b[43mkwargs\u001b[49m\u001b[43m)\u001b[49m\n",
      "File \u001b[1;32mc:\\Users\\Kiba\\anaconda3\\envs\\nlp\\Lib\\site-packages\\sklearn\\pipeline.py:416\u001b[0m, in \u001b[0;36mPipeline.fit\u001b[1;34m(self, X, y, **fit_params)\u001b[0m\n\u001b[0;32m    390\u001b[0m \u001b[38;5;250m\u001b[39m\u001b[38;5;124;03m\"\"\"Fit the model.\u001b[39;00m\n\u001b[0;32m    391\u001b[0m \n\u001b[0;32m    392\u001b[0m \u001b[38;5;124;03mFit all the transformers one after the other and transform the\u001b[39;00m\n\u001b[1;32m   (...)\u001b[0m\n\u001b[0;32m    413\u001b[0m \u001b[38;5;124;03m    Pipeline with fitted steps.\u001b[39;00m\n\u001b[0;32m    414\u001b[0m \u001b[38;5;124;03m\"\"\"\u001b[39;00m\n\u001b[0;32m    415\u001b[0m fit_params_steps \u001b[38;5;241m=\u001b[39m \u001b[38;5;28mself\u001b[39m\u001b[38;5;241m.\u001b[39m_check_fit_params(\u001b[38;5;241m*\u001b[39m\u001b[38;5;241m*\u001b[39mfit_params)\n\u001b[1;32m--> 416\u001b[0m Xt \u001b[38;5;241m=\u001b[39m \u001b[38;5;28;43mself\u001b[39;49m\u001b[38;5;241;43m.\u001b[39;49m\u001b[43m_fit\u001b[49m\u001b[43m(\u001b[49m\u001b[43mX\u001b[49m\u001b[43m,\u001b[49m\u001b[43m \u001b[49m\u001b[43my\u001b[49m\u001b[43m,\u001b[49m\u001b[43m \u001b[49m\u001b[38;5;241;43m*\u001b[39;49m\u001b[38;5;241;43m*\u001b[39;49m\u001b[43mfit_params_steps\u001b[49m\u001b[43m)\u001b[49m\n\u001b[0;32m    417\u001b[0m \u001b[38;5;28;01mwith\u001b[39;00m _print_elapsed_time(\u001b[38;5;124m\"\u001b[39m\u001b[38;5;124mPipeline\u001b[39m\u001b[38;5;124m\"\u001b[39m, \u001b[38;5;28mself\u001b[39m\u001b[38;5;241m.\u001b[39m_log_message(\u001b[38;5;28mlen\u001b[39m(\u001b[38;5;28mself\u001b[39m\u001b[38;5;241m.\u001b[39msteps) \u001b[38;5;241m-\u001b[39m \u001b[38;5;241m1\u001b[39m)):\n\u001b[0;32m    418\u001b[0m     \u001b[38;5;28;01mif\u001b[39;00m \u001b[38;5;28mself\u001b[39m\u001b[38;5;241m.\u001b[39m_final_estimator \u001b[38;5;241m!=\u001b[39m \u001b[38;5;124m\"\u001b[39m\u001b[38;5;124mpassthrough\u001b[39m\u001b[38;5;124m\"\u001b[39m:\n",
      "File \u001b[1;32mc:\\Users\\Kiba\\anaconda3\\envs\\nlp\\Lib\\site-packages\\sklearn\\pipeline.py:370\u001b[0m, in \u001b[0;36mPipeline._fit\u001b[1;34m(self, X, y, **fit_params_steps)\u001b[0m\n\u001b[0;32m    368\u001b[0m     cloned_transformer \u001b[38;5;241m=\u001b[39m clone(transformer)\n\u001b[0;32m    369\u001b[0m \u001b[38;5;66;03m# Fit or load from cache the current transformer\u001b[39;00m\n\u001b[1;32m--> 370\u001b[0m X, fitted_transformer \u001b[38;5;241m=\u001b[39m \u001b[43mfit_transform_one_cached\u001b[49m\u001b[43m(\u001b[49m\n\u001b[0;32m    371\u001b[0m \u001b[43m    \u001b[49m\u001b[43mcloned_transformer\u001b[49m\u001b[43m,\u001b[49m\n\u001b[0;32m    372\u001b[0m \u001b[43m    \u001b[49m\u001b[43mX\u001b[49m\u001b[43m,\u001b[49m\n\u001b[0;32m    373\u001b[0m \u001b[43m    \u001b[49m\u001b[43my\u001b[49m\u001b[43m,\u001b[49m\n\u001b[0;32m    374\u001b[0m \u001b[43m    \u001b[49m\u001b[38;5;28;43;01mNone\u001b[39;49;00m\u001b[43m,\u001b[49m\n\u001b[0;32m    375\u001b[0m \u001b[43m    \u001b[49m\u001b[43mmessage_clsname\u001b[49m\u001b[38;5;241;43m=\u001b[39;49m\u001b[38;5;124;43m\"\u001b[39;49m\u001b[38;5;124;43mPipeline\u001b[39;49m\u001b[38;5;124;43m\"\u001b[39;49m\u001b[43m,\u001b[49m\n\u001b[0;32m    376\u001b[0m \u001b[43m    \u001b[49m\u001b[43mmessage\u001b[49m\u001b[38;5;241;43m=\u001b[39;49m\u001b[38;5;28;43mself\u001b[39;49m\u001b[38;5;241;43m.\u001b[39;49m\u001b[43m_log_message\u001b[49m\u001b[43m(\u001b[49m\u001b[43mstep_idx\u001b[49m\u001b[43m)\u001b[49m\u001b[43m,\u001b[49m\n\u001b[0;32m    377\u001b[0m \u001b[43m    \u001b[49m\u001b[38;5;241;43m*\u001b[39;49m\u001b[38;5;241;43m*\u001b[39;49m\u001b[43mfit_params_steps\u001b[49m\u001b[43m[\u001b[49m\u001b[43mname\u001b[49m\u001b[43m]\u001b[49m\u001b[43m,\u001b[49m\n\u001b[0;32m    378\u001b[0m \u001b[43m\u001b[49m\u001b[43m)\u001b[49m\n\u001b[0;32m    379\u001b[0m \u001b[38;5;66;03m# Replace the transformer of the step with the fitted\u001b[39;00m\n\u001b[0;32m    380\u001b[0m \u001b[38;5;66;03m# transformer. This is necessary when loading the transformer\u001b[39;00m\n\u001b[0;32m    381\u001b[0m \u001b[38;5;66;03m# from the cache.\u001b[39;00m\n\u001b[0;32m    382\u001b[0m \u001b[38;5;28mself\u001b[39m\u001b[38;5;241m.\u001b[39msteps[step_idx] \u001b[38;5;241m=\u001b[39m (name, fitted_transformer)\n",
      "File \u001b[1;32mc:\\Users\\Kiba\\anaconda3\\envs\\nlp\\Lib\\site-packages\\joblib\\memory.py:349\u001b[0m, in \u001b[0;36mNotMemorizedFunc.__call__\u001b[1;34m(self, *args, **kwargs)\u001b[0m\n\u001b[0;32m    348\u001b[0m \u001b[38;5;28;01mdef\u001b[39;00m \u001b[38;5;21m__call__\u001b[39m(\u001b[38;5;28mself\u001b[39m, \u001b[38;5;241m*\u001b[39margs, \u001b[38;5;241m*\u001b[39m\u001b[38;5;241m*\u001b[39mkwargs):\n\u001b[1;32m--> 349\u001b[0m     \u001b[38;5;28;01mreturn\u001b[39;00m \u001b[38;5;28;43mself\u001b[39;49m\u001b[38;5;241;43m.\u001b[39;49m\u001b[43mfunc\u001b[49m\u001b[43m(\u001b[49m\u001b[38;5;241;43m*\u001b[39;49m\u001b[43margs\u001b[49m\u001b[43m,\u001b[49m\u001b[43m \u001b[49m\u001b[38;5;241;43m*\u001b[39;49m\u001b[38;5;241;43m*\u001b[39;49m\u001b[43mkwargs\u001b[49m\u001b[43m)\u001b[49m\n",
      "File \u001b[1;32mc:\\Users\\Kiba\\anaconda3\\envs\\nlp\\Lib\\site-packages\\sklearn\\pipeline.py:950\u001b[0m, in \u001b[0;36m_fit_transform_one\u001b[1;34m(transformer, X, y, weight, message_clsname, message, **fit_params)\u001b[0m\n\u001b[0;32m    948\u001b[0m \u001b[38;5;28;01mwith\u001b[39;00m _print_elapsed_time(message_clsname, message):\n\u001b[0;32m    949\u001b[0m     \u001b[38;5;28;01mif\u001b[39;00m \u001b[38;5;28mhasattr\u001b[39m(transformer, \u001b[38;5;124m\"\u001b[39m\u001b[38;5;124mfit_transform\u001b[39m\u001b[38;5;124m\"\u001b[39m):\n\u001b[1;32m--> 950\u001b[0m         res \u001b[38;5;241m=\u001b[39m \u001b[43mtransformer\u001b[49m\u001b[38;5;241;43m.\u001b[39;49m\u001b[43mfit_transform\u001b[49m\u001b[43m(\u001b[49m\u001b[43mX\u001b[49m\u001b[43m,\u001b[49m\u001b[43m \u001b[49m\u001b[43my\u001b[49m\u001b[43m,\u001b[49m\u001b[43m \u001b[49m\u001b[38;5;241;43m*\u001b[39;49m\u001b[38;5;241;43m*\u001b[39;49m\u001b[43mfit_params\u001b[49m\u001b[43m)\u001b[49m\n\u001b[0;32m    951\u001b[0m     \u001b[38;5;28;01melse\u001b[39;00m:\n\u001b[0;32m    952\u001b[0m         res \u001b[38;5;241m=\u001b[39m transformer\u001b[38;5;241m.\u001b[39mfit(X, y, \u001b[38;5;241m*\u001b[39m\u001b[38;5;241m*\u001b[39mfit_params)\u001b[38;5;241m.\u001b[39mtransform(X)\n",
      "File \u001b[1;32mc:\\Users\\Kiba\\anaconda3\\envs\\nlp\\Lib\\site-packages\\sklearn\\feature_extraction\\text.py:2126\u001b[0m, in \u001b[0;36mTfidfVectorizer.fit_transform\u001b[1;34m(self, raw_documents, y)\u001b[0m\n\u001b[0;32m   2119\u001b[0m \u001b[38;5;28mself\u001b[39m\u001b[38;5;241m.\u001b[39m_check_params()\n\u001b[0;32m   2120\u001b[0m \u001b[38;5;28mself\u001b[39m\u001b[38;5;241m.\u001b[39m_tfidf \u001b[38;5;241m=\u001b[39m TfidfTransformer(\n\u001b[0;32m   2121\u001b[0m     norm\u001b[38;5;241m=\u001b[39m\u001b[38;5;28mself\u001b[39m\u001b[38;5;241m.\u001b[39mnorm,\n\u001b[0;32m   2122\u001b[0m     use_idf\u001b[38;5;241m=\u001b[39m\u001b[38;5;28mself\u001b[39m\u001b[38;5;241m.\u001b[39muse_idf,\n\u001b[0;32m   2123\u001b[0m     smooth_idf\u001b[38;5;241m=\u001b[39m\u001b[38;5;28mself\u001b[39m\u001b[38;5;241m.\u001b[39msmooth_idf,\n\u001b[0;32m   2124\u001b[0m     sublinear_tf\u001b[38;5;241m=\u001b[39m\u001b[38;5;28mself\u001b[39m\u001b[38;5;241m.\u001b[39msublinear_tf,\n\u001b[0;32m   2125\u001b[0m )\n\u001b[1;32m-> 2126\u001b[0m X \u001b[38;5;241m=\u001b[39m \u001b[38;5;28;43msuper\u001b[39;49m\u001b[43m(\u001b[49m\u001b[43m)\u001b[49m\u001b[38;5;241;43m.\u001b[39;49m\u001b[43mfit_transform\u001b[49m\u001b[43m(\u001b[49m\u001b[43mraw_documents\u001b[49m\u001b[43m)\u001b[49m\n\u001b[0;32m   2127\u001b[0m \u001b[38;5;28mself\u001b[39m\u001b[38;5;241m.\u001b[39m_tfidf\u001b[38;5;241m.\u001b[39mfit(X)\n\u001b[0;32m   2128\u001b[0m \u001b[38;5;66;03m# X is already a transformed view of raw_documents so\u001b[39;00m\n\u001b[0;32m   2129\u001b[0m \u001b[38;5;66;03m# we set copy to False\u001b[39;00m\n",
      "File \u001b[1;32mc:\\Users\\Kiba\\anaconda3\\envs\\nlp\\Lib\\site-packages\\sklearn\\base.py:1151\u001b[0m, in \u001b[0;36m_fit_context.<locals>.decorator.<locals>.wrapper\u001b[1;34m(estimator, *args, **kwargs)\u001b[0m\n\u001b[0;32m   1144\u001b[0m     estimator\u001b[38;5;241m.\u001b[39m_validate_params()\n\u001b[0;32m   1146\u001b[0m \u001b[38;5;28;01mwith\u001b[39;00m config_context(\n\u001b[0;32m   1147\u001b[0m     skip_parameter_validation\u001b[38;5;241m=\u001b[39m(\n\u001b[0;32m   1148\u001b[0m         prefer_skip_nested_validation \u001b[38;5;129;01mor\u001b[39;00m global_skip_validation\n\u001b[0;32m   1149\u001b[0m     )\n\u001b[0;32m   1150\u001b[0m ):\n\u001b[1;32m-> 1151\u001b[0m     \u001b[38;5;28;01mreturn\u001b[39;00m \u001b[43mfit_method\u001b[49m\u001b[43m(\u001b[49m\u001b[43mestimator\u001b[49m\u001b[43m,\u001b[49m\u001b[43m \u001b[49m\u001b[38;5;241;43m*\u001b[39;49m\u001b[43margs\u001b[49m\u001b[43m,\u001b[49m\u001b[43m \u001b[49m\u001b[38;5;241;43m*\u001b[39;49m\u001b[38;5;241;43m*\u001b[39;49m\u001b[43mkwargs\u001b[49m\u001b[43m)\u001b[49m\n",
      "File \u001b[1;32mc:\\Users\\Kiba\\anaconda3\\envs\\nlp\\Lib\\site-packages\\sklearn\\feature_extraction\\text.py:1383\u001b[0m, in \u001b[0;36mCountVectorizer.fit_transform\u001b[1;34m(self, raw_documents, y)\u001b[0m\n\u001b[0;32m   1375\u001b[0m             warnings\u001b[38;5;241m.\u001b[39mwarn(\n\u001b[0;32m   1376\u001b[0m                 \u001b[38;5;124m\"\u001b[39m\u001b[38;5;124mUpper case characters found in\u001b[39m\u001b[38;5;124m\"\u001b[39m\n\u001b[0;32m   1377\u001b[0m                 \u001b[38;5;124m\"\u001b[39m\u001b[38;5;124m vocabulary while \u001b[39m\u001b[38;5;124m'\u001b[39m\u001b[38;5;124mlowercase\u001b[39m\u001b[38;5;124m'\u001b[39m\u001b[38;5;124m\"\u001b[39m\n\u001b[0;32m   1378\u001b[0m                 \u001b[38;5;124m\"\u001b[39m\u001b[38;5;124m is True. These entries will not\u001b[39m\u001b[38;5;124m\"\u001b[39m\n\u001b[0;32m   1379\u001b[0m                 \u001b[38;5;124m\"\u001b[39m\u001b[38;5;124m be matched with any documents\u001b[39m\u001b[38;5;124m\"\u001b[39m\n\u001b[0;32m   1380\u001b[0m             )\n\u001b[0;32m   1381\u001b[0m             \u001b[38;5;28;01mbreak\u001b[39;00m\n\u001b[1;32m-> 1383\u001b[0m vocabulary, X \u001b[38;5;241m=\u001b[39m \u001b[38;5;28;43mself\u001b[39;49m\u001b[38;5;241;43m.\u001b[39;49m\u001b[43m_count_vocab\u001b[49m\u001b[43m(\u001b[49m\u001b[43mraw_documents\u001b[49m\u001b[43m,\u001b[49m\u001b[43m \u001b[49m\u001b[38;5;28;43mself\u001b[39;49m\u001b[38;5;241;43m.\u001b[39;49m\u001b[43mfixed_vocabulary_\u001b[49m\u001b[43m)\u001b[49m\n\u001b[0;32m   1385\u001b[0m \u001b[38;5;28;01mif\u001b[39;00m \u001b[38;5;28mself\u001b[39m\u001b[38;5;241m.\u001b[39mbinary:\n\u001b[0;32m   1386\u001b[0m     X\u001b[38;5;241m.\u001b[39mdata\u001b[38;5;241m.\u001b[39mfill(\u001b[38;5;241m1\u001b[39m)\n",
      "File \u001b[1;32mc:\\Users\\Kiba\\anaconda3\\envs\\nlp\\Lib\\site-packages\\sklearn\\feature_extraction\\text.py:1270\u001b[0m, in \u001b[0;36mCountVectorizer._count_vocab\u001b[1;34m(self, raw_documents, fixed_vocab)\u001b[0m\n\u001b[0;32m   1268\u001b[0m \u001b[38;5;28;01mfor\u001b[39;00m doc \u001b[38;5;129;01min\u001b[39;00m raw_documents:\n\u001b[0;32m   1269\u001b[0m     feature_counter \u001b[38;5;241m=\u001b[39m {}\n\u001b[1;32m-> 1270\u001b[0m     \u001b[38;5;28;01mfor\u001b[39;00m feature \u001b[38;5;129;01min\u001b[39;00m \u001b[43manalyze\u001b[49m\u001b[43m(\u001b[49m\u001b[43mdoc\u001b[49m\u001b[43m)\u001b[49m:\n\u001b[0;32m   1271\u001b[0m         \u001b[38;5;28;01mtry\u001b[39;00m:\n\u001b[0;32m   1272\u001b[0m             feature_idx \u001b[38;5;241m=\u001b[39m vocabulary[feature]\n",
      "File \u001b[1;32mc:\\Users\\Kiba\\anaconda3\\envs\\nlp\\Lib\\site-packages\\sklearn\\feature_extraction\\text.py:110\u001b[0m, in \u001b[0;36m_analyze\u001b[1;34m(doc, analyzer, tokenizer, ngrams, preprocessor, decoder, stop_words)\u001b[0m\n\u001b[0;32m    108\u001b[0m \u001b[38;5;28;01melse\u001b[39;00m:\n\u001b[0;32m    109\u001b[0m     \u001b[38;5;28;01mif\u001b[39;00m preprocessor \u001b[38;5;129;01mis\u001b[39;00m \u001b[38;5;129;01mnot\u001b[39;00m \u001b[38;5;28;01mNone\u001b[39;00m:\n\u001b[1;32m--> 110\u001b[0m         doc \u001b[38;5;241m=\u001b[39m \u001b[43mpreprocessor\u001b[49m\u001b[43m(\u001b[49m\u001b[43mdoc\u001b[49m\u001b[43m)\u001b[49m\n\u001b[0;32m    111\u001b[0m     \u001b[38;5;28;01mif\u001b[39;00m tokenizer \u001b[38;5;129;01mis\u001b[39;00m \u001b[38;5;129;01mnot\u001b[39;00m \u001b[38;5;28;01mNone\u001b[39;00m:\n\u001b[0;32m    112\u001b[0m         doc \u001b[38;5;241m=\u001b[39m tokenizer(doc)\n",
      "File \u001b[1;32mc:\\Users\\Kiba\\anaconda3\\envs\\nlp\\Lib\\site-packages\\sklearn\\feature_extraction\\text.py:68\u001b[0m, in \u001b[0;36m_preprocess\u001b[1;34m(doc, accent_function, lower)\u001b[0m\n\u001b[0;32m     49\u001b[0m \u001b[38;5;250m\u001b[39m\u001b[38;5;124;03m\"\"\"Chain together an optional series of text preprocessing steps to\u001b[39;00m\n\u001b[0;32m     50\u001b[0m \u001b[38;5;124;03mapply to a document.\u001b[39;00m\n\u001b[0;32m     51\u001b[0m \n\u001b[1;32m   (...)\u001b[0m\n\u001b[0;32m     65\u001b[0m \u001b[38;5;124;03m    preprocessed string\u001b[39;00m\n\u001b[0;32m     66\u001b[0m \u001b[38;5;124;03m\"\"\"\u001b[39;00m\n\u001b[0;32m     67\u001b[0m \u001b[38;5;28;01mif\u001b[39;00m lower:\n\u001b[1;32m---> 68\u001b[0m     doc \u001b[38;5;241m=\u001b[39m \u001b[43mdoc\u001b[49m\u001b[38;5;241;43m.\u001b[39;49m\u001b[43mlower\u001b[49m()\n\u001b[0;32m     69\u001b[0m \u001b[38;5;28;01mif\u001b[39;00m accent_function \u001b[38;5;129;01mis\u001b[39;00m \u001b[38;5;129;01mnot\u001b[39;00m \u001b[38;5;28;01mNone\u001b[39;00m:\n\u001b[0;32m     70\u001b[0m     doc \u001b[38;5;241m=\u001b[39m accent_function(doc)\n",
      "\u001b[1;31mAttributeError\u001b[0m: 'list' object has no attribute 'lower'"
     ]
    }
   ],
   "source": [
    "# Create a pipeline with TF-IDF vectorizer and MultinomialNB classifier\n",
    "pipeline = Pipeline([\n",
    "    ('tfidf', TfidfVectorizer()),\n",
    "    ('clf', MultinomialNB())\n",
    "])\n",
    "\n",
    "pipeline.fit(X_train, y_train)"
   ]
  },
  {
   "cell_type": "code",
   "execution_count": null,
   "metadata": {},
   "outputs": [],
   "source": [
    "\n",
    "# Define the parameter grid to search\n",
    "parameters = {\n",
    "    'tfidf__max_features': [100, 1000, 3000, 10000, 20000],  # Adjust these values according to your needs\n",
    "}\n",
    "\n",
    "# Perform grid search\n",
    "grid_search = GridSearchCV(pipeline, parameters, cv=5, n_jobs=-1)\n",
    "grid_search.fit(X_train, y_train)\n",
    "\n",
    "# Print the best parameters found\n",
    "print(\"Best parameters:\", grid_search.best_params_)\n",
    "\n",
    "# Evaluate on the test set\n",
    "y_pred = grid_search.predict(X_test)\n",
    "print(\"Classification Report:\")\n",
    "print(classification_report(y_test, y_pred))"
   ]
  },
  {
   "cell_type": "code",
   "execution_count": null,
   "metadata": {},
   "outputs": [],
   "source": [
    "# Get the results of grid search\n",
    "results = grid_search.cv_results_\n",
    "\n",
    "# Extract the mean test scores and standard deviations\n",
    "mean_test_scores = results['mean_test_score']\n",
    "std_test_scores = results['std_test_score']\n",
    "\n",
    "# Get the values of the max_features parameter\n",
    "max_features_values = parameters['tfidf__max_features']\n",
    "\n",
    "# Plot accuracy with each parameter value\n",
    "plt.errorbar(max_features_values, mean_test_scores, yerr=std_test_scores, fmt='-o')\n",
    "plt.xlabel('max_features')\n",
    "plt.ylabel('Mean Accuracy')\n",
    "plt.title('Accuracy with Different max_features')\n",
    "plt.grid(True)\n",
    "plt.show()"
   ]
  },
  {
   "cell_type": "markdown",
   "metadata": {},
   "source": [
    "### 3.2 <ins>Multinomial Naive Bayes (Word2Vec)</ins>"
   ]
  },
  {
   "cell_type": "code",
   "execution_count": 13,
   "metadata": {},
   "outputs": [],
   "source": [
    "mms = MinMaxScaler()\n",
    "X_train_w2v_ss = mms.fit_transform(X_train_w2v)\n",
    "X_test_w2v_ss = mms.transform(X_test_w2v)"
   ]
  },
  {
   "cell_type": "code",
   "execution_count": 14,
   "metadata": {},
   "outputs": [
    {
     "name": "stdout",
     "output_type": "stream",
     "text": [
      "(Word2Vec) Cross Validation Accuracy: 0.869\n"
     ]
    }
   ],
   "source": [
    "mb = MultinomialNB()\n",
    "y_cv = cross_val_predict(mb, X_train_w2v_ss, y_train, cv=5)\n",
    "\n",
    "mb.fit(X_train_w2v_ss, y_train)\n",
    "y_pred = mb.predict(X_test_w2v_ss)\n",
    "\n",
    "print(f\"(Word2Vec) Cross Validation Accuracy: {accuracy_score(y_train, y_cv):.3f}\")"
   ]
  },
  {
   "cell_type": "code",
   "execution_count": 28,
   "metadata": {},
   "outputs": [
    {
     "data": {
      "image/png": "[encoded data removed]",
      "text/plain": [
       "<Figure size 640x480 with 2 Axes>"
      ]
     },
     "metadata": {},
     "output_type": "display_data"
    }
   ],
   "source": [
    "ConfusionMatrixDisplay.from_predictions(y_pred, y_test)\n",
    "plt.title(f\"(Word2Vec) Test Accuracy: {accuracy_score(y_test, y_pred):.3f}\")\n",
    "plt.show()"
   ]
  },
  {
   "cell_type": "markdown",
   "metadata": {},
   "source": [
    "### 3.3 <ins> Random Forest (TF-IDF)</ins>"
   ]
  },
  {
   "cell_type": "code",
   "execution_count": 29,
   "metadata": {},
   "outputs": [
    {
     "name": "stdout",
     "output_type": "stream",
     "text": [
      "(TF-IDF) Cross Validation Accuracy: 0.985\n"
     ]
    }
   ],
   "source": [
    "rf = RandomForestClassifier(random_state=0, n_jobs=-1)\n",
    "y_cv = cross_val_predict(rf, X_train_tfidf, y_train, cv=5)\n",
    "\n",
    "rf.fit(X_train_tfidf, y_train)\n",
    "y_pred = rf.predict(X_test_tfidf)\n",
    "\n",
    "print(f\"(TF-IDF) Cross Validation Accuracy: {accuracy_score(y_train, y_cv):.3f}\")"
   ]
  },
  {
   "cell_type": "markdown",
   "metadata": {},
   "source": [
    "### 3.4 <ins> Random Forest (Word2Vec)</ins>"
   ]
  },
  {
   "cell_type": "code",
   "execution_count": 30,
   "metadata": {},
   "outputs": [
    {
     "name": "stdout",
     "output_type": "stream",
     "text": [
      "(Word2Vec) Cross Validation Accuracy: 0.963\n"
     ]
    }
   ],
   "source": [
    "rf = RandomForestClassifier(random_state=0, n_jobs=-1)\n",
    "y_cv = cross_val_predict(rf, X_train_w2v, y_train, cv=5)\n",
    "\n",
    "rf.fit(X_train_w2v, y_train)\n",
    "y_pred = rf.predict(X_test_w2v)\n",
    "\n",
    "print(f\"(Word2Vec) Cross Validation Accuracy: {accuracy_score(y_train, y_cv):.3f}\")"
   ]
  },
  {
   "cell_type": "code",
   "execution_count": 31,
   "metadata": {},
   "outputs": [
    {
     "data": {
      "image/png": "[encoded data removed]",
      "text/plain": [
       "<Figure size 640x480 with 2 Axes>"
      ]
     },
     "metadata": {},
     "output_type": "display_data"
    }
   ],
   "source": [
    "ConfusionMatrixDisplay.from_predictions(y_pred, y_test)\n",
    "plt.title(f\"(Word2Vec) Test Accuracy: {accuracy_score(y_test, y_pred):.3f}\")\n",
    "plt.show()"
   ]
  },
  {
   "cell_type": "markdown",
   "metadata": {},
   "source": [
    "### 3.4 bis <ins> Comparaison min_count avec Word2Vec</ins>"
   ]
  },
  {
   "cell_type": "code",
   "execution_count": 32,
   "metadata": {},
   "outputs": [
    {
     "name": "stdout",
     "output_type": "stream",
     "text": [
      "Min Count: 1 - Cross Validation Accuracy: 0.956 - Test Accuracy: 0.958\n",
      "Min Count: 2 - Cross Validation Accuracy: 0.955 - Test Accuracy: 0.964\n",
      "Min Count: 3 - Cross Validation Accuracy: 0.955 - Test Accuracy: 0.971\n",
      "Min Count: 4 - Cross Validation Accuracy: 0.954 - Test Accuracy: 0.974\n",
      "Min Count: 5 - Cross Validation Accuracy: 0.960 - Test Accuracy: 0.954\n",
      "Min Count: 6 - Cross Validation Accuracy: 0.957 - Test Accuracy: 0.966\n",
      "Min Count: 7 - Cross Validation Accuracy: 0.953 - Test Accuracy: 0.965\n",
      "Min Count: 8 - Cross Validation Accuracy: 0.962 - Test Accuracy: 0.959\n",
      "Min Count: 9 - Cross Validation Accuracy: 0.961 - Test Accuracy: 0.968\n"
     ]
    }
   ],
   "source": [
    "for min_count in range(1, 10):\n",
    "    word2vec = Word2Vec(X_train, window=5, min_count=min_count, workers=-1, vector_size=100)\n",
    "    X_train_w2v = X_train.apply(lambda x: get_vector(x, word2vec)).values.tolist()\n",
    "    X_test_w2v = X_test.apply(lambda x: get_vector(x, word2vec)).values.tolist()\n",
    "    \n",
    "    rf = RandomForestClassifier(random_state=0, n_jobs=-1)\n",
    "    y_cv = cross_val_predict(rf, X_train_w2v, y_train, cv=5)\n",
    "    \n",
    "    rf.fit(X_train_w2v, y_train)\n",
    "    y_pred = rf.predict(X_test_w2v)\n",
    "    \n",
    "    print(f\"Min Count: {min_count} - Cross Validation Accuracy: {accuracy_score(y_train, y_cv):.3f} - Test Accuracy: {accuracy_score(y_test, y_pred):.3f}\")"
   ]
  },
  {
   "cell_type": "code",
   "execution_count": null,
   "metadata": {},
   "outputs": [],
   "source": []
  }
 ],
 "metadata": {
  "kernelspec": {
   "display_name": "Python 3",
   "language": "python",
   "name": "python3"
  },
  "language_info": {
   "codemirror_mode": {
    "name": "ipython",
    "version": 3
   },
   "file_extension": ".py",
   "mimetype": "text/x-python",
   "name": "python",
   "nbconvert_exporter": "python",
   "pygments_lexer": "ipython3",
   "version": "3.12.2"
  }
 },
 "nbformat": 4,
 "nbformat_minor": 2
}
